{
 "cells": [
  {
   "cell_type": "markdown",
   "metadata": {},
   "source": [
    "# Aufgabe Stream"
   ]
  },
  {
   "cell_type": "markdown",
   "metadata": {},
   "source": [
    "Wir lesen zuerst die Datei ein. Der Befehl stream[\"ZNGROUP\"] = stream[\"ZNGROUP\"].apply(str) ist notwendig, dass pandas die Zahlen in der Spalte ZNGROUP als Faktorstufen 1-4 und nicht als Zahlen 1-4 interpretiert."
   ]
  },
  {
   "cell_type": "code",
   "execution_count": 2,
   "metadata": {},
   "outputs": [
    {
     "data": {
      "text/html": [
       "<div>\n",
       "<style scoped>\n",
       "    .dataframe tbody tr th:only-of-type {\n",
       "        vertical-align: middle;\n",
       "    }\n",
       "\n",
       "    .dataframe tbody tr th {\n",
       "        vertical-align: top;\n",
       "    }\n",
       "\n",
       "    .dataframe thead th {\n",
       "        text-align: right;\n",
       "    }\n",
       "</style>\n",
       "<table border=\"1\" class=\"dataframe\">\n",
       "  <thead>\n",
       "    <tr style=\"text-align: right;\">\n",
       "      <th></th>\n",
       "      <th>STREAM</th>\n",
       "      <th>ZINC</th>\n",
       "      <th>DIVERSITY</th>\n",
       "      <th>ZNGROUP</th>\n",
       "    </tr>\n",
       "  </thead>\n",
       "  <tbody>\n",
       "    <tr>\n",
       "      <th>0</th>\n",
       "      <td>Eagle</td>\n",
       "      <td>BACK</td>\n",
       "      <td>2.27</td>\n",
       "      <td>1</td>\n",
       "    </tr>\n",
       "    <tr>\n",
       "      <th>1</th>\n",
       "      <td>Eagle</td>\n",
       "      <td>HIGH</td>\n",
       "      <td>1.25</td>\n",
       "      <td>4</td>\n",
       "    </tr>\n",
       "    <tr>\n",
       "      <th>2</th>\n",
       "      <td>Eagle</td>\n",
       "      <td>HIGH</td>\n",
       "      <td>1.15</td>\n",
       "      <td>4</td>\n",
       "    </tr>\n",
       "    <tr>\n",
       "      <th>3</th>\n",
       "      <td>Eagle</td>\n",
       "      <td>MED</td>\n",
       "      <td>1.62</td>\n",
       "      <td>3</td>\n",
       "    </tr>\n",
       "    <tr>\n",
       "      <th>4</th>\n",
       "      <td>Blue</td>\n",
       "      <td>BACK</td>\n",
       "      <td>1.70</td>\n",
       "      <td>1</td>\n",
       "    </tr>\n",
       "  </tbody>\n",
       "</table>\n",
       "</div>"
      ],
      "text/plain": [
       "  STREAM  ZINC  DIVERSITY ZNGROUP\n",
       "0  Eagle  BACK       2.27       1\n",
       "1  Eagle  HIGH       1.25       4\n",
       "2  Eagle  HIGH       1.15       4\n",
       "3  Eagle   MED       1.62       3\n",
       "4   Blue  BACK       1.70       1"
      ]
     },
     "execution_count": 2,
     "metadata": {},
     "output_type": "execute_result"
    }
   ],
   "source": [
    "from statsmodels.formula.api import ols\n",
    "from statsmodels.stats.anova import anova_lm\n",
    "import pandas as pd\n",
    "from patsy.contrasts import Sum\n",
    "stream = pd.read_csv('stream.dat', sep=' ', header=0)\n",
    "stream[\"ZNGROUP\"] = stream[\"ZNGROUP\"].apply(str)\n",
    "\n",
    "stream.head()"
   ]
  },
  {
   "cell_type": "markdown",
   "metadata": {},
   "source": [
    "Wir berechnen nun die Mittelwerte für die Zinkgruppen:"
   ]
  },
  {
   "cell_type": "code",
   "execution_count": 3,
   "metadata": {},
   "outputs": [
    {
     "data": {
      "text/html": [
       "<div>\n",
       "<style scoped>\n",
       "    .dataframe tbody tr th:only-of-type {\n",
       "        vertical-align: middle;\n",
       "    }\n",
       "\n",
       "    .dataframe tbody tr th {\n",
       "        vertical-align: top;\n",
       "    }\n",
       "\n",
       "    .dataframe thead th {\n",
       "        text-align: right;\n",
       "    }\n",
       "</style>\n",
       "<table border=\"1\" class=\"dataframe\">\n",
       "  <thead>\n",
       "    <tr style=\"text-align: right;\">\n",
       "      <th></th>\n",
       "      <th>DIVERSITY</th>\n",
       "    </tr>\n",
       "    <tr>\n",
       "      <th>ZNGROUP</th>\n",
       "      <th></th>\n",
       "    </tr>\n",
       "  </thead>\n",
       "  <tbody>\n",
       "    <tr>\n",
       "      <th>1</th>\n",
       "      <td>1.797500</td>\n",
       "    </tr>\n",
       "    <tr>\n",
       "      <th>2</th>\n",
       "      <td>2.032500</td>\n",
       "    </tr>\n",
       "    <tr>\n",
       "      <th>3</th>\n",
       "      <td>1.717778</td>\n",
       "    </tr>\n",
       "    <tr>\n",
       "      <th>4</th>\n",
       "      <td>1.277778</td>\n",
       "    </tr>\n",
       "  </tbody>\n",
       "</table>\n",
       "</div>"
      ],
      "text/plain": [
       "         DIVERSITY\n",
       "ZNGROUP           \n",
       "1         1.797500\n",
       "2         2.032500\n",
       "3         1.717778\n",
       "4         1.277778"
      ]
     },
     "execution_count": 3,
     "metadata": {},
     "output_type": "execute_result"
    }
   ],
   "source": [
    "stream.groupby(\"ZNGROUP\").mean()"
   ]
  },
  {
   "cell_type": "markdown",
   "metadata": {},
   "source": [
    "Diese Gruppenmittelwerte entsprechen:\n",
    "$$\n",
    "\\hat{\\mu}_1=1.7975,\n",
    "\\qquad \n",
    "\\hat{\\mu}_2=2.0325,\n",
    "\\qquad \n",
    "\\hat{\\mu}_3=1.7178,\n",
    "\\qquad \n",
    "\\hat{\\mu}_4=1.2778\n",
    "$$\n",
    "Die $\\hat{\\ }$-Variante wird hier gewählt, da dies aus Daten gemessene Werte sind. Ohne Hut sind das theoretische Werte, die allgemein nicht bekannt sind.\n",
    "\n",
    "Wir interessieren uns für die _Unterschiede_ zwischen den Mittelwerten und da ist obige Schreibweise nicht so praktisch. Aus diesem Grund wählt man (es gibt viele verschiedene Varianten) das sogenannte Gruppenmittelmodell\n",
    "$$\n",
    "\\mu_i\n",
    "=\\mu+\\alpha_i+\\epsilon\n",
    "$$\n",
    "wobei $\\mu$ etwas salopp gesagt, die Baseline ist. Diese kann wieder beliebig gewählt werden, die $\\alpha$'s lauten dann halt entsprechen anders. Damit man aber die _Unterschiede_ berücksichtigen möchte, gibt _eine_ Einschrängkung.\n",
    "\n",
    "Beispielsweise wird das Gruppenmittel $\\mu_1$ als Baseline gewählt, also\n",
    "$$\n",
    "\\mu_1=\\mu\n",
    "$$\n",
    "Somit ist $\\alpha_1=0$ und dies ist eine sogenannte Randbedingung. Ein Wert können wir _nicht_ beliebig wählen, sondern ist schon vorgegeben (siehe auch Folie 20, Block 9). Alle anderen Mittelwerte werden mit dieser Baseline verglichen. \n",
    "\n",
    "Das ist das, was statsmodels im folgenden Code bestimmt:"
   ]
  },
  {
   "cell_type": "code",
   "execution_count": 4,
   "metadata": {},
   "outputs": [
    {
     "data": {
      "text/plain": [
       "Intercept       1.797500\n",
       "ZNGROUP[T.2]    0.235000\n",
       "ZNGROUP[T.3]   -0.079722\n",
       "ZNGROUP[T.4]   -0.519722\n",
       "dtype: float64"
      ]
     },
     "execution_count": 4,
     "metadata": {},
     "output_type": "execute_result"
    }
   ],
   "source": [
    "fit = ols(\"DIVERSITY ~ ZNGROUP\", data=stream).fit()\n",
    "fit.params"
   ]
  },
  {
   "cell_type": "markdown",
   "metadata": {},
   "source": [
    "Es gilt dann:\n",
    "$$\n",
    "\\hat{\\mu}_1=1.7975,\n",
    "\\qquad \n",
    "\\hat{\\mu}_2=1.7975+0.235=2.03255,\n",
    "\\qquad \n",
    "\\hat{\\mu}_3=1.7975-0.0797=1.7178,\n",
    "\\qquad \n",
    "\\hat{\\mu}_4=1.7975-0.5197=1.2778\n",
    "$$\n",
    "Man beachte, es werden nur 3 $\\alpha$'s ausgegeben, da das 4. klar ist. \n",
    "\n",
    "Nun ist $\\alpha_1=0$ eine Möglichkeit, die Randbedingung zu wählen. Wir hätten natürlich genauso gut $\\alpha_3=0$ wählen können. Die ausgegebenen Werte oben sind dann zwar verschieden, aber die daraus berechneten Mittelwerte sind gleich. \n",
    "\n",
    "Wir können aber auch folgende Randbedingung wählen\n",
    "$$\n",
    "\\alpha_1+\\alpha_2+\\alpha_3+\\alpha_4\n",
    "=0\n",
    "$$\n",
    "Dies wird dann mit folgendem Code erreicht"
   ]
  },
  {
   "cell_type": "code",
   "execution_count": 5,
   "metadata": {},
   "outputs": [
    {
     "data": {
      "text/plain": [
       "Intercept               1.706389\n",
       "C(ZNGROUP, Sum)[S.1]    0.091111\n",
       "C(ZNGROUP, Sum)[S.2]    0.326111\n",
       "C(ZNGROUP, Sum)[S.3]    0.011389\n",
       "dtype: float64"
      ]
     },
     "execution_count": 5,
     "metadata": {},
     "output_type": "execute_result"
    }
   ],
   "source": [
    "fit = ols(\"DIVERSITY ~ C(ZNGROUP, Sum)\", data=stream).fit()\n",
    "fit.params"
   ]
  },
  {
   "cell_type": "markdown",
   "metadata": {},
   "source": [
    "Hier sehen die Werte anders aus als im Output weiter oben, da die Randbedingung eine andere ist. Aber die berechneten Mittelwerte bleiben gleich:\n",
    "$$\n",
    "\\hat{\\mu}_1=1.7064+0.0911=1.7975,\n",
    "\\qquad \n",
    "\\hat{\\mu}_2=1.7064+0.3261=2.03255,\n",
    "\\qquad \n",
    "\\hat{\\mu}_3=1.7064+0.0.0114=1.7178,\n",
    "\\qquad \n",
    "\\hat{\\mu}_4=1.7064+(-0.0911-0.3261-0.01140)=1.2778\n",
    "$$\n",
    "Der letzte Wert kommt aus der Randbedingung $\\alpha_1+\\alpha_2+\\alpha_3+\\alpha_4=0$ oder \n",
    "$$\n",
    "\\alpha_4=-\\alpha_1-\\alpha_2-\\alpha_3\n",
    "$$\n",
    "Auch hier sind nur wieder 3 $\\alpha$'s angegeben, da das 4 aus den anderen 3 folgt.\n",
    "\n",
    "Es ist nicht so, dass die Randbedingung nicht wichtig ist, sie ist sogar zentral für die Berechnungen des $F$-Wertes, aber es spielt keine Rolle _welche_ Randbedingung wir wählen. Die berechneten Mittelwerte müssen gleich bleiben. \n",
    "\n",
    "Nun bleibt halt noch die Frage, welche Randbedingung gewählt wird. Das hat oft auch historische Gründe, wo die Randbedingung so gewählt wurde, dass die Berechnungen der $p$-Werte möglichst einfach wurde. Das ist mit den heutigen Hilfsmittel keine Thema mehr.  \n",
    "\n",
    "Oder aus Gründen für die Interpretation. Im Beispiel der Diäten, möchte der Hersteller der wirksamsten Diät Werbung machen und wählt dann die eigene Diät als Baseline und zeigt, dass die anderen beiden schlechter sind. "
   ]
  }
 ],
 "metadata": {
  "kernelspec": {
   "display_name": "Python 3",
   "language": "python",
   "name": "python3"
  },
  "language_info": {
   "codemirror_mode": {
    "name": "ipython",
    "version": 3
   },
   "file_extension": ".py",
   "mimetype": "text/x-python",
   "name": "python",
   "nbconvert_exporter": "python",
   "pygments_lexer": "ipython3",
   "version": "3.8.2"
  }
 },
 "nbformat": 4,
 "nbformat_minor": 4
}
