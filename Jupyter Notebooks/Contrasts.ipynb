{
 "cells": [
  {
   "cell_type": "markdown",
   "metadata": {},
   "source": [
    "Wie in Übungen"
   ]
  },
  {
   "cell_type": "code",
   "execution_count": 2,
   "metadata": {},
   "outputs": [
    {
     "data": {
      "text/html": [
       "<div>\n",
       "<style scoped>\n",
       "    .dataframe tbody tr th:only-of-type {\n",
       "        vertical-align: middle;\n",
       "    }\n",
       "\n",
       "    .dataframe tbody tr th {\n",
       "        vertical-align: top;\n",
       "    }\n",
       "\n",
       "    .dataframe thead th {\n",
       "        text-align: right;\n",
       "    }\n",
       "</style>\n",
       "<table border=\"1\" class=\"dataframe\">\n",
       "  <thead>\n",
       "    <tr style=\"text-align: right;\">\n",
       "      <th></th>\n",
       "      <th>STADT.index</th>\n",
       "      <th>AUTO</th>\n",
       "      <th>MPG</th>\n",
       "      <th>KMP4L</th>\n",
       "      <th>STADT</th>\n",
       "    </tr>\n",
       "  </thead>\n",
       "  <tbody>\n",
       "    <tr>\n",
       "      <th>1</th>\n",
       "      <td>1</td>\n",
       "      <td>1</td>\n",
       "      <td>20.3</td>\n",
       "      <td>34.5303</td>\n",
       "      <td>Los Angeles</td>\n",
       "    </tr>\n",
       "    <tr>\n",
       "      <th>2</th>\n",
       "      <td>1</td>\n",
       "      <td>1</td>\n",
       "      <td>19.8</td>\n",
       "      <td>33.6798</td>\n",
       "      <td>Los Angeles</td>\n",
       "    </tr>\n",
       "    <tr>\n",
       "      <th>3</th>\n",
       "      <td>1</td>\n",
       "      <td>1</td>\n",
       "      <td>21.4</td>\n",
       "      <td>36.4014</td>\n",
       "      <td>Los Angeles</td>\n",
       "    </tr>\n",
       "    <tr>\n",
       "      <th>4</th>\n",
       "      <td>1</td>\n",
       "      <td>2</td>\n",
       "      <td>19.5</td>\n",
       "      <td>33.1695</td>\n",
       "      <td>Los Angeles</td>\n",
       "    </tr>\n",
       "    <tr>\n",
       "      <th>5</th>\n",
       "      <td>1</td>\n",
       "      <td>2</td>\n",
       "      <td>18.6</td>\n",
       "      <td>31.6386</td>\n",
       "      <td>Los Angeles</td>\n",
       "    </tr>\n",
       "  </tbody>\n",
       "</table>\n",
       "</div>"
      ],
      "text/plain": [
       "   STADT.index  AUTO   MPG    KMP4L        STADT\n",
       "1            1     1  20.3  34.5303  Los Angeles\n",
       "2            1     1  19.8  33.6798  Los Angeles\n",
       "3            1     1  21.4  36.4014  Los Angeles\n",
       "4            1     2  19.5  33.1695  Los Angeles\n",
       "5            1     2  18.6  31.6386  Los Angeles"
      ]
     },
     "execution_count": 2,
     "metadata": {},
     "output_type": "execute_result"
    }
   ],
   "source": [
    "from pandas import DataFrame\n",
    "import pandas as pd\n",
    "import numpy as np\n",
    "import seaborn as sns\n",
    "import scipy.stats as st\n",
    "from statsmodels.formula.api import ols\n",
    "from statsmodels.stats.anova import anova_lm\n",
    "from statsmodels.graphics.factorplots import interaction_plot\n",
    "import matplotlib.pyplot as plt\n",
    "\n",
    "df = pd.read_csv(\"automob.dat\", sep=\" \")\n",
    "df.head()"
   ]
  },
  {
   "cell_type": "code",
   "execution_count": 3,
   "metadata": {},
   "outputs": [
    {
     "data": {
      "text/html": [
       "<div>\n",
       "<style scoped>\n",
       "    .dataframe tbody tr th:only-of-type {\n",
       "        vertical-align: middle;\n",
       "    }\n",
       "\n",
       "    .dataframe tbody tr th {\n",
       "        vertical-align: top;\n",
       "    }\n",
       "\n",
       "    .dataframe thead th {\n",
       "        text-align: right;\n",
       "    }\n",
       "</style>\n",
       "<table border=\"1\" class=\"dataframe\">\n",
       "  <thead>\n",
       "    <tr style=\"text-align: right;\">\n",
       "      <th></th>\n",
       "      <th>df</th>\n",
       "      <th>sum_sq</th>\n",
       "      <th>mean_sq</th>\n",
       "      <th>F</th>\n",
       "      <th>PR(&gt;F)</th>\n",
       "    </tr>\n",
       "  </thead>\n",
       "  <tbody>\n",
       "    <tr>\n",
       "      <th>C(STADT, Sum)</th>\n",
       "      <td>2.0</td>\n",
       "      <td>19.599255</td>\n",
       "      <td>9.799628</td>\n",
       "      <td>7.438263</td>\n",
       "      <td>2.379745e-03</td>\n",
       "    </tr>\n",
       "    <tr>\n",
       "      <th>C(AUTO, Sum)</th>\n",
       "      <td>4.0</td>\n",
       "      <td>179.741928</td>\n",
       "      <td>44.935482</td>\n",
       "      <td>34.107613</td>\n",
       "      <td>9.163330e-11</td>\n",
       "    </tr>\n",
       "    <tr>\n",
       "      <th>C(STADT, Sum):C(AUTO, Sum)</th>\n",
       "      <td>8.0</td>\n",
       "      <td>244.619694</td>\n",
       "      <td>30.577462</td>\n",
       "      <td>23.209370</td>\n",
       "      <td>7.578447e-11</td>\n",
       "    </tr>\n",
       "    <tr>\n",
       "      <th>Residual</th>\n",
       "      <td>30.0</td>\n",
       "      <td>39.523858</td>\n",
       "      <td>1.317462</td>\n",
       "      <td>NaN</td>\n",
       "      <td>NaN</td>\n",
       "    </tr>\n",
       "  </tbody>\n",
       "</table>\n",
       "</div>"
      ],
      "text/plain": [
       "                              df      sum_sq    mean_sq          F  \\\n",
       "C(STADT, Sum)                2.0   19.599255   9.799628   7.438263   \n",
       "C(AUTO, Sum)                 4.0  179.741928  44.935482  34.107613   \n",
       "C(STADT, Sum):C(AUTO, Sum)   8.0  244.619694  30.577462  23.209370   \n",
       "Residual                    30.0   39.523858   1.317462        NaN   \n",
       "\n",
       "                                  PR(>F)  \n",
       "C(STADT, Sum)               2.379745e-03  \n",
       "C(AUTO, Sum)                9.163330e-11  \n",
       "C(STADT, Sum):C(AUTO, Sum)  7.578447e-11  \n",
       "Residual                             NaN  "
      ]
     },
     "execution_count": 3,
     "metadata": {},
     "output_type": "execute_result"
    }
   ],
   "source": [
    "fit = ols(\"KMP4L ~ C(STADT,Sum)*C(AUTO,Sum)\", data=df).fit()\n",
    "anova_lm(fit)"
   ]
  },
  {
   "cell_type": "markdown",
   "metadata": {},
   "source": [
    "Nun lassen wir das C(..., Sum) weg"
   ]
  },
  {
   "cell_type": "code",
   "execution_count": 4,
   "metadata": {},
   "outputs": [
    {
     "data": {
      "text/html": [
       "<div>\n",
       "<style scoped>\n",
       "    .dataframe tbody tr th:only-of-type {\n",
       "        vertical-align: middle;\n",
       "    }\n",
       "\n",
       "    .dataframe tbody tr th {\n",
       "        vertical-align: top;\n",
       "    }\n",
       "\n",
       "    .dataframe thead th {\n",
       "        text-align: right;\n",
       "    }\n",
       "</style>\n",
       "<table border=\"1\" class=\"dataframe\">\n",
       "  <thead>\n",
       "    <tr style=\"text-align: right;\">\n",
       "      <th></th>\n",
       "      <th>df</th>\n",
       "      <th>sum_sq</th>\n",
       "      <th>mean_sq</th>\n",
       "      <th>F</th>\n",
       "      <th>PR(&gt;F)</th>\n",
       "    </tr>\n",
       "  </thead>\n",
       "  <tbody>\n",
       "    <tr>\n",
       "      <th>STADT</th>\n",
       "      <td>2.0</td>\n",
       "      <td>19.599255</td>\n",
       "      <td>9.799628</td>\n",
       "      <td>1.175204</td>\n",
       "      <td>0.319451</td>\n",
       "    </tr>\n",
       "    <tr>\n",
       "      <th>AUTO</th>\n",
       "      <td>1.0</td>\n",
       "      <td>9.621844</td>\n",
       "      <td>9.621844</td>\n",
       "      <td>1.153884</td>\n",
       "      <td>0.289339</td>\n",
       "    </tr>\n",
       "    <tr>\n",
       "      <th>STADT:AUTO</th>\n",
       "      <td>2.0</td>\n",
       "      <td>129.055972</td>\n",
       "      <td>64.527986</td>\n",
       "      <td>7.738414</td>\n",
       "      <td>0.001478</td>\n",
       "    </tr>\n",
       "    <tr>\n",
       "      <th>Residual</th>\n",
       "      <td>39.0</td>\n",
       "      <td>325.207663</td>\n",
       "      <td>8.338658</td>\n",
       "      <td>NaN</td>\n",
       "      <td>NaN</td>\n",
       "    </tr>\n",
       "  </tbody>\n",
       "</table>\n",
       "</div>"
      ],
      "text/plain": [
       "              df      sum_sq    mean_sq         F    PR(>F)\n",
       "STADT        2.0   19.599255   9.799628  1.175204  0.319451\n",
       "AUTO         1.0    9.621844   9.621844  1.153884  0.289339\n",
       "STADT:AUTO   2.0  129.055972  64.527986  7.738414  0.001478\n",
       "Residual    39.0  325.207663   8.338658       NaN       NaN"
      ]
     },
     "execution_count": 4,
     "metadata": {},
     "output_type": "execute_result"
    }
   ],
   "source": [
    "fit = ols(\"KMP4L ~ STADT*AUTO\", data=df).fit()\n",
    "anova_lm(fit)"
   ]
  },
  {
   "cell_type": "markdown",
   "metadata": {},
   "source": [
    "Wir bekommen komplett andere $p$-Werte. Warum ist dies so? Betrachten wir die Spalte df. Da steht bei C(Auto,Sum) 4 und unten 1. df steht für degree of freedom und ist allgemein 1 weniger als die Anzahl Stufen dieses Faktors, also müsste 4 stehen. Aber im 2. Fall steht 1. Warum? Schauen wir uns die Datenstruktur an:"
   ]
  },
  {
   "cell_type": "code",
   "execution_count": 5,
   "metadata": {},
   "outputs": [
    {
     "data": {
      "text/plain": [
       "STADT.index      int64\n",
       "AUTO             int64\n",
       "MPG            float64\n",
       "KMP4L          float64\n",
       "STADT           object\n",
       "dtype: object"
      ]
     },
     "execution_count": 5,
     "metadata": {},
     "output_type": "execute_result"
    }
   ],
   "source": [
    "df.dtypes"
   ]
  },
  {
   "cell_type": "markdown",
   "metadata": {},
   "source": [
    "Da steht bei Auto int64, das heisst pandas fasst die Einträge als Zahlen auf und nicht als Stufen eines Faktors. Wir müssen also diese Spalte in Objekte umwandeln (wie bei STADT, die aber schon als object vorhanden ist, da die Einträge strings sind). \n"
   ]
  },
  {
   "cell_type": "code",
   "execution_count": 6,
   "metadata": {},
   "outputs": [
    {
     "data": {
      "text/plain": [
       "STADT.index      int64\n",
       "AUTO            object\n",
       "MPG            float64\n",
       "KMP4L          float64\n",
       "STADT           object\n",
       "dtype: object"
      ]
     },
     "execution_count": 6,
     "metadata": {},
     "output_type": "execute_result"
    }
   ],
   "source": [
    "df[\"AUTO\"] =  df[\"AUTO\"].astype(object)\n",
    "df.dtypes"
   ]
  },
  {
   "cell_type": "code",
   "execution_count": 7,
   "metadata": {},
   "outputs": [
    {
     "data": {
      "text/html": [
       "<div>\n",
       "<style scoped>\n",
       "    .dataframe tbody tr th:only-of-type {\n",
       "        vertical-align: middle;\n",
       "    }\n",
       "\n",
       "    .dataframe tbody tr th {\n",
       "        vertical-align: top;\n",
       "    }\n",
       "\n",
       "    .dataframe thead th {\n",
       "        text-align: right;\n",
       "    }\n",
       "</style>\n",
       "<table border=\"1\" class=\"dataframe\">\n",
       "  <thead>\n",
       "    <tr style=\"text-align: right;\">\n",
       "      <th></th>\n",
       "      <th>STADT.index</th>\n",
       "      <th>AUTO</th>\n",
       "      <th>MPG</th>\n",
       "      <th>KMP4L</th>\n",
       "      <th>STADT</th>\n",
       "    </tr>\n",
       "  </thead>\n",
       "  <tbody>\n",
       "    <tr>\n",
       "      <th>1</th>\n",
       "      <td>1</td>\n",
       "      <td>1</td>\n",
       "      <td>20.3</td>\n",
       "      <td>34.5303</td>\n",
       "      <td>Los Angeles</td>\n",
       "    </tr>\n",
       "    <tr>\n",
       "      <th>2</th>\n",
       "      <td>1</td>\n",
       "      <td>1</td>\n",
       "      <td>19.8</td>\n",
       "      <td>33.6798</td>\n",
       "      <td>Los Angeles</td>\n",
       "    </tr>\n",
       "    <tr>\n",
       "      <th>3</th>\n",
       "      <td>1</td>\n",
       "      <td>1</td>\n",
       "      <td>21.4</td>\n",
       "      <td>36.4014</td>\n",
       "      <td>Los Angeles</td>\n",
       "    </tr>\n",
       "    <tr>\n",
       "      <th>4</th>\n",
       "      <td>1</td>\n",
       "      <td>2</td>\n",
       "      <td>19.5</td>\n",
       "      <td>33.1695</td>\n",
       "      <td>Los Angeles</td>\n",
       "    </tr>\n",
       "    <tr>\n",
       "      <th>5</th>\n",
       "      <td>1</td>\n",
       "      <td>2</td>\n",
       "      <td>18.6</td>\n",
       "      <td>31.6386</td>\n",
       "      <td>Los Angeles</td>\n",
       "    </tr>\n",
       "  </tbody>\n",
       "</table>\n",
       "</div>"
      ],
      "text/plain": [
       "   STADT.index AUTO   MPG    KMP4L        STADT\n",
       "1            1    1  20.3  34.5303  Los Angeles\n",
       "2            1    1  19.8  33.6798  Los Angeles\n",
       "3            1    1  21.4  36.4014  Los Angeles\n",
       "4            1    2  19.5  33.1695  Los Angeles\n",
       "5            1    2  18.6  31.6386  Los Angeles"
      ]
     },
     "execution_count": 7,
     "metadata": {},
     "output_type": "execute_result"
    }
   ],
   "source": [
    "df.head()"
   ]
  },
  {
   "cell_type": "markdown",
   "metadata": {},
   "source": [
    "Es stehen zwar immer noch Zahlen in der Spalte AUTO, aber die sind als Strings abgespeichert.\n",
    "\n",
    "Führen wir nun die Varianzanalyse durch:"
   ]
  },
  {
   "cell_type": "code",
   "execution_count": 8,
   "metadata": {},
   "outputs": [
    {
     "data": {
      "text/html": [
       "<div>\n",
       "<style scoped>\n",
       "    .dataframe tbody tr th:only-of-type {\n",
       "        vertical-align: middle;\n",
       "    }\n",
       "\n",
       "    .dataframe tbody tr th {\n",
       "        vertical-align: top;\n",
       "    }\n",
       "\n",
       "    .dataframe thead th {\n",
       "        text-align: right;\n",
       "    }\n",
       "</style>\n",
       "<table border=\"1\" class=\"dataframe\">\n",
       "  <thead>\n",
       "    <tr style=\"text-align: right;\">\n",
       "      <th></th>\n",
       "      <th>df</th>\n",
       "      <th>sum_sq</th>\n",
       "      <th>mean_sq</th>\n",
       "      <th>F</th>\n",
       "      <th>PR(&gt;F)</th>\n",
       "    </tr>\n",
       "  </thead>\n",
       "  <tbody>\n",
       "    <tr>\n",
       "      <th>STADT</th>\n",
       "      <td>2.0</td>\n",
       "      <td>19.599255</td>\n",
       "      <td>9.799628</td>\n",
       "      <td>7.438263</td>\n",
       "      <td>2.379745e-03</td>\n",
       "    </tr>\n",
       "    <tr>\n",
       "      <th>AUTO</th>\n",
       "      <td>4.0</td>\n",
       "      <td>179.741928</td>\n",
       "      <td>44.935482</td>\n",
       "      <td>34.107613</td>\n",
       "      <td>9.163330e-11</td>\n",
       "    </tr>\n",
       "    <tr>\n",
       "      <th>STADT:AUTO</th>\n",
       "      <td>8.0</td>\n",
       "      <td>244.619694</td>\n",
       "      <td>30.577462</td>\n",
       "      <td>23.209370</td>\n",
       "      <td>7.578447e-11</td>\n",
       "    </tr>\n",
       "    <tr>\n",
       "      <th>Residual</th>\n",
       "      <td>30.0</td>\n",
       "      <td>39.523858</td>\n",
       "      <td>1.317462</td>\n",
       "      <td>NaN</td>\n",
       "      <td>NaN</td>\n",
       "    </tr>\n",
       "  </tbody>\n",
       "</table>\n",
       "</div>"
      ],
      "text/plain": [
       "              df      sum_sq    mean_sq          F        PR(>F)\n",
       "STADT        2.0   19.599255   9.799628   7.438263  2.379745e-03\n",
       "AUTO         4.0  179.741928  44.935482  34.107613  9.163330e-11\n",
       "STADT:AUTO   8.0  244.619694  30.577462  23.209370  7.578447e-11\n",
       "Residual    30.0   39.523858   1.317462        NaN           NaN"
      ]
     },
     "execution_count": 8,
     "metadata": {},
     "output_type": "execute_result"
    }
   ],
   "source": [
    "fit = ols(\"KMP4L ~ STADT*AUTO\", data=df).fit()\n",
    "anova_lm(fit)"
   ]
  },
  {
   "cell_type": "markdown",
   "metadata": {},
   "source": [
    "Jetzt steht df 4 für AUTO und die $p$-Werte sind dieselben wie mit C(..., Sum). \n",
    "\n",
    "Apropos: C() steht für contrast, was man (sehr vereinfacht) als Faktorstufen auffassen kann. "
   ]
  }
 ],
 "metadata": {
  "kernelspec": {
   "display_name": "Python 3",
   "language": "python",
   "name": "python3"
  },
  "language_info": {
   "codemirror_mode": {
    "name": "ipython",
    "version": 3
   },
   "file_extension": ".py",
   "mimetype": "text/x-python",
   "name": "python",
   "nbconvert_exporter": "python",
   "pygments_lexer": "ipython3",
   "version": "3.8.2"
  }
 },
 "nbformat": 4,
 "nbformat_minor": 4
}
