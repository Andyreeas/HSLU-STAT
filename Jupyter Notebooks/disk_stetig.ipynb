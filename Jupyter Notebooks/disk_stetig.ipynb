{
 "cells": [
  {
   "cell_type": "markdown",
   "metadata": {},
   "source": [
    "# Übergang diskreter zur stetiger Verteilung\n",
    "\n",
    "Im Beispiel unten werden die Körpergrössen von 1 Million Personen simuliert (norm.rvs()).\n",
    "\n",
    "Mit bar_width können wir die Balkenbreite ändern. Je kleiner diese wird, umso mehr folgt das Histogramm einer glatten Kurve. "
   ]
  },
  {
   "cell_type": "code",
   "execution_count": 9,
   "metadata": {},
   "outputs": [
    {
     "data": {
      "text/plain": [
       "<matplotlib.axes._subplots.AxesSubplot at 0x7f8d5f085d50>"
      ]
     },
     "execution_count": 9,
     "metadata": {},
     "output_type": "execute_result"
    },
    {
     "data": {
      "image/png": "[encoded data removed]",
      "text/plain": [
       "<Figure size 432x288 with 1 Axes>"
      ]
     },
     "metadata": {
      "needs_background": "light"
     },
     "output_type": "display_data"
    }
   ],
   "source": [
    "%matplotlib inline\n",
    "\n",
    "from scipy.stats import norm\n",
    "import numpy as np\n",
    "import pandas as pd\n",
    "\n",
    "np.random.seed(4)\n",
    "\n",
    "x = pd.Series(norm.rvs(size=1000000, loc=170, scale=10))\n",
    "\n",
    "bar_width = 10\n",
    "\n",
    "bin = np.arange(120, 210, step=bar_width)\n",
    "\n",
    "x.plot(kind = \"hist\", density=True, bins=bin, edgecolor=\"black\")\n"
   ]
  }
 ],
 "metadata": {
  "kernelspec": {
   "display_name": "Python 3",
   "language": "python",
   "name": "python3"
  },
  "language_info": {
   "codemirror_mode": {
    "name": "ipython",
    "version": 3
   },
   "file_extension": ".py",
   "mimetype": "text/x-python",
   "name": "python",
   "nbconvert_exporter": "python",
   "pygments_lexer": "ipython3",
   "version": "3.7.5"
  }
 },
 "nbformat": 4,
 "nbformat_minor": 2
}
