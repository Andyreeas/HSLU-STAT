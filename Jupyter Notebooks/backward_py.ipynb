{
 "cells": [
  {
   "cell_type": "markdown",
   "metadata": {},
   "source": [
    "# Credit - backward"
   ]
  },
  {
   "cell_type": "code",
   "execution_count": 88,
   "metadata": {},
   "outputs": [
    {
     "data": {
      "text/html": [
       "<div>\n",
       "<style scoped>\n",
       "    .dataframe tbody tr th:only-of-type {\n",
       "        vertical-align: middle;\n",
       "    }\n",
       "\n",
       "    .dataframe tbody tr th {\n",
       "        vertical-align: top;\n",
       "    }\n",
       "\n",
       "    .dataframe thead th {\n",
       "        text-align: right;\n",
       "    }\n",
       "</style>\n",
       "<table border=\"1\" class=\"dataframe\">\n",
       "  <thead>\n",
       "    <tr style=\"text-align: right;\">\n",
       "      <th></th>\n",
       "      <th>Income</th>\n",
       "      <th>Limit</th>\n",
       "      <th>Rating</th>\n",
       "      <th>Cards</th>\n",
       "      <th>Age</th>\n",
       "      <th>Education</th>\n",
       "      <th>Gender</th>\n",
       "      <th>Student</th>\n",
       "      <th>Married</th>\n",
       "      <th>Ethnicity</th>\n",
       "      <th>Balance</th>\n",
       "    </tr>\n",
       "  </thead>\n",
       "  <tbody>\n",
       "    <tr>\n",
       "      <th>0</th>\n",
       "      <td>14.8910000000</td>\n",
       "      <td>3606</td>\n",
       "      <td>283</td>\n",
       "      <td>2</td>\n",
       "      <td>34</td>\n",
       "      <td>11</td>\n",
       "      <td>Male</td>\n",
       "      <td>No</td>\n",
       "      <td>Yes</td>\n",
       "      <td>Caucasian</td>\n",
       "      <td>333</td>\n",
       "    </tr>\n",
       "    <tr>\n",
       "      <th>1</th>\n",
       "      <td>106.0250000000</td>\n",
       "      <td>6645</td>\n",
       "      <td>483</td>\n",
       "      <td>3</td>\n",
       "      <td>82</td>\n",
       "      <td>15</td>\n",
       "      <td>Female</td>\n",
       "      <td>Yes</td>\n",
       "      <td>Yes</td>\n",
       "      <td>Asian</td>\n",
       "      <td>903</td>\n",
       "    </tr>\n",
       "    <tr>\n",
       "      <th>2</th>\n",
       "      <td>104.5930000000</td>\n",
       "      <td>7075</td>\n",
       "      <td>514</td>\n",
       "      <td>4</td>\n",
       "      <td>71</td>\n",
       "      <td>11</td>\n",
       "      <td>Male</td>\n",
       "      <td>No</td>\n",
       "      <td>No</td>\n",
       "      <td>Asian</td>\n",
       "      <td>580</td>\n",
       "    </tr>\n",
       "    <tr>\n",
       "      <th>3</th>\n",
       "      <td>148.9240000000</td>\n",
       "      <td>9504</td>\n",
       "      <td>681</td>\n",
       "      <td>3</td>\n",
       "      <td>36</td>\n",
       "      <td>11</td>\n",
       "      <td>Female</td>\n",
       "      <td>No</td>\n",
       "      <td>No</td>\n",
       "      <td>Asian</td>\n",
       "      <td>964</td>\n",
       "    </tr>\n",
       "    <tr>\n",
       "      <th>4</th>\n",
       "      <td>55.8820000000</td>\n",
       "      <td>4897</td>\n",
       "      <td>357</td>\n",
       "      <td>2</td>\n",
       "      <td>68</td>\n",
       "      <td>16</td>\n",
       "      <td>Male</td>\n",
       "      <td>No</td>\n",
       "      <td>Yes</td>\n",
       "      <td>Caucasian</td>\n",
       "      <td>331</td>\n",
       "    </tr>\n",
       "  </tbody>\n",
       "</table>\n",
       "</div>"
      ],
      "text/plain": [
       "          Income  Limit  Rating  Cards  Age  Education  Gender Student  \\\n",
       "0  14.8910000000   3606     283      2   34         11    Male      No   \n",
       "1 106.0250000000   6645     483      3   82         15  Female     Yes   \n",
       "2 104.5930000000   7075     514      4   71         11    Male      No   \n",
       "3 148.9240000000   9504     681      3   36         11  Female      No   \n",
       "4  55.8820000000   4897     357      2   68         16    Male      No   \n",
       "\n",
       "  Married  Ethnicity  Balance  \n",
       "0     Yes  Caucasian      333  \n",
       "1     Yes      Asian      903  \n",
       "2      No      Asian      580  \n",
       "3      No      Asian      964  \n",
       "4     Yes  Caucasian      331  "
      ]
     },
     "execution_count": 88,
     "metadata": {},
     "output_type": "execute_result"
    }
   ],
   "source": [
    "import pandas as pd \n",
    "import statsmodels.api as sm\n",
    "from statsmodels.formula.api import ols\n",
    "pd.options.display.float_format = '{:.10f}'.format\n",
    "df = pd.read_csv(\"Credit.csv\").drop(\"Unnamed: 0\", axis=1)\n",
    "\n",
    "df.head()"
   ]
  },
  {
   "cell_type": "markdown",
   "metadata": {},
   "source": [
    "Wir beginnen mit allen Variablen und berechnen die $p$-Werte für alle vorkommenden erklärenden Variablen:"
   ]
  },
  {
   "cell_type": "code",
   "execution_count": 94,
   "metadata": {},
   "outputs": [
    {
     "data": {
      "text/plain": [
       "Intercept                0.0000000000\n",
       "Gender[T.Female]         0.2832368443\n",
       "Married[T.Yes]           0.4107255745\n",
       "Student[T.Yes]           0.0000000000\n",
       "Ethnicity[T.Asian]       0.2347046731\n",
       "Ethnicity[T.Caucasian]   0.4083088190\n",
       "Limit                    0.0000000121\n",
       "Rating                   0.0211221287\n",
       "Income                   0.0000000000\n",
       "Age                      0.0374312744\n",
       "Cards                    0.0000540120\n",
       "Education                0.4920745729\n",
       "dtype: float64"
      ]
     },
     "execution_count": 94,
     "metadata": {},
     "output_type": "execute_result"
    }
   ],
   "source": [
    "predictors = set(df.columns)\n",
    "predictors.remove(\"Balance\")\n",
    "selected = list(predictors)\n",
    "formula = \"{} ~ {}\".format(\"Balance\", ' + '.join(selected))\n",
    "smf.ols(formula, data=df).fit().pvalues"
   ]
  },
  {
   "cell_type": "markdown",
   "metadata": {},
   "source": [
    "Lassen die Variable weg mit dem grössten $p$-Wert und das ist Education"
   ]
  },
  {
   "cell_type": "code",
   "execution_count": 95,
   "metadata": {},
   "outputs": [
    {
     "data": {
      "text/plain": [
       "Intercept                0.0000000000\n",
       "Gender[T.Female]         0.2864840001\n",
       "Married[T.Yes]           0.3845849442\n",
       "Student[T.Yes]           0.0000000000\n",
       "Ethnicity[T.Asian]       0.2333142753\n",
       "Ethnicity[T.Caucasian]   0.3965189924\n",
       "Limit                    0.0000000143\n",
       "Rating                   0.0179340937\n",
       "Income                   0.0000000000\n",
       "Age                      0.0360867222\n",
       "Cards                    0.0000534242\n",
       "dtype: float64"
      ]
     },
     "execution_count": 95,
     "metadata": {},
     "output_type": "execute_result"
    }
   ],
   "source": [
    "predictors.remove(\"Education\")\n",
    "selected = list(predictors)\n",
    "formula = \"{} ~ {}\".format(\"Balance\", ' + '.join(selected))\n",
    "smf.ols(formula, data=df).fit().pvalues"
   ]
  },
  {
   "cell_type": "markdown",
   "metadata": {},
   "source": [
    "Lassen wieder die Variable weg mit dem grössten $p$-Wert"
   ]
  },
  {
   "cell_type": "code",
   "execution_count": 96,
   "metadata": {},
   "outputs": [
    {
     "data": {
      "text/plain": [
       "Intercept          0.0000000000\n",
       "Gender[T.Female]   0.2973739647\n",
       "Married[T.Yes]     0.4658032460\n",
       "Student[T.Yes]     0.0000000000\n",
       "Limit              0.0000000090\n",
       "Rating             0.0210433168\n",
       "Income             0.0000000000\n",
       "Age                0.0298783133\n",
       "Cards              0.0000427355\n",
       "dtype: float64"
      ]
     },
     "execution_count": 96,
     "metadata": {},
     "output_type": "execute_result"
    }
   ],
   "source": [
    "predictors.remove(\"Ethnicity\")\n",
    "selected = list(predictors)\n",
    "formula = \"{} ~ {}\".format(\"Balance\", ' + '.join(selected))\n",
    "smf.ols(formula, data=df).fit().pvalues"
   ]
  },
  {
   "cell_type": "markdown",
   "metadata": {},
   "source": [
    "Usw. "
   ]
  },
  {
   "cell_type": "code",
   "execution_count": 97,
   "metadata": {},
   "outputs": [
    {
     "data": {
      "text/plain": [
       "Intercept          0.0000000000\n",
       "Gender[T.Female]   0.2911679041\n",
       "Student[T.Yes]     0.0000000000\n",
       "Limit              0.0000000050\n",
       "Rating             0.0245589516\n",
       "Income             0.0000000000\n",
       "Age                0.0340397841\n",
       "Cards              0.0000340885\n",
       "dtype: float64"
      ]
     },
     "execution_count": 97,
     "metadata": {},
     "output_type": "execute_result"
    }
   ],
   "source": [
    "predictors.remove(\"Married\")\n",
    "selected = list(predictors)\n",
    "formula = \"{} ~ {}\".format(\"Balance\", ' + '.join(selected))\n",
    "smf.ols(formula, data=df).fit().pvalues"
   ]
  },
  {
   "cell_type": "code",
   "execution_count": 98,
   "metadata": {},
   "outputs": [
    {
     "data": {
      "text/plain": [
       "Intercept        0.0000000000\n",
       "Student[T.Yes]   0.0000000000\n",
       "Limit            0.0000000050\n",
       "Rating           0.0249515511\n",
       "Income           0.0000000000\n",
       "Age              0.0330904404\n",
       "Cards            0.0000307524\n",
       "dtype: float64"
      ]
     },
     "execution_count": 98,
     "metadata": {},
     "output_type": "execute_result"
    }
   ],
   "source": [
    "predictors.remove(\"Gender\")\n",
    "selected = list(predictors)\n",
    "formula = \"{} ~ {}\".format(\"Balance\", ' + '.join(selected))\n",
    "smf.ols(formula, data=df).fit().pvalues"
   ]
  }
 ],
 "metadata": {
  "kernelspec": {
   "display_name": "Python 3",
   "language": "python",
   "name": "python3"
  },
  "language_info": {
   "codemirror_mode": {
    "name": "ipython",
    "version": 3
   },
   "file_extension": ".py",
   "mimetype": "text/x-python",
   "name": "python",
   "nbconvert_exporter": "python",
   "pygments_lexer": "ipython3",
   "version": "3.8.2"
  }
 },
 "nbformat": 4,
 "nbformat_minor": 4
}
