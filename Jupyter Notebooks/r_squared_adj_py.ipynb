{
 "cells": [
  {
   "cell_type": "markdown",
   "metadata": {},
   "source": [
    "# Credit - $R^2$ adjusted"
   ]
  },
  {
   "cell_type": "code",
   "execution_count": 4,
   "metadata": {
    "scrolled": true
   },
   "outputs": [
    {
     "data": {
      "text/html": [
       "<div>\n",
       "<style scoped>\n",
       "    .dataframe tbody tr th:only-of-type {\n",
       "        vertical-align: middle;\n",
       "    }\n",
       "\n",
       "    .dataframe tbody tr th {\n",
       "        vertical-align: top;\n",
       "    }\n",
       "\n",
       "    .dataframe thead th {\n",
       "        text-align: right;\n",
       "    }\n",
       "</style>\n",
       "<table border=\"1\" class=\"dataframe\">\n",
       "  <thead>\n",
       "    <tr style=\"text-align: right;\">\n",
       "      <th></th>\n",
       "      <th>Income</th>\n",
       "      <th>Limit</th>\n",
       "      <th>Rating</th>\n",
       "      <th>Cards</th>\n",
       "      <th>Age</th>\n",
       "      <th>Education</th>\n",
       "      <th>Gender</th>\n",
       "      <th>Student</th>\n",
       "      <th>Married</th>\n",
       "      <th>Ethnicity</th>\n",
       "      <th>Balance</th>\n",
       "    </tr>\n",
       "  </thead>\n",
       "  <tbody>\n",
       "    <tr>\n",
       "      <th>0</th>\n",
       "      <td>14.891</td>\n",
       "      <td>3606</td>\n",
       "      <td>283</td>\n",
       "      <td>2</td>\n",
       "      <td>34</td>\n",
       "      <td>11</td>\n",
       "      <td>Male</td>\n",
       "      <td>No</td>\n",
       "      <td>Yes</td>\n",
       "      <td>Caucasian</td>\n",
       "      <td>333</td>\n",
       "    </tr>\n",
       "    <tr>\n",
       "      <th>1</th>\n",
       "      <td>106.025</td>\n",
       "      <td>6645</td>\n",
       "      <td>483</td>\n",
       "      <td>3</td>\n",
       "      <td>82</td>\n",
       "      <td>15</td>\n",
       "      <td>Female</td>\n",
       "      <td>Yes</td>\n",
       "      <td>Yes</td>\n",
       "      <td>Asian</td>\n",
       "      <td>903</td>\n",
       "    </tr>\n",
       "    <tr>\n",
       "      <th>2</th>\n",
       "      <td>104.593</td>\n",
       "      <td>7075</td>\n",
       "      <td>514</td>\n",
       "      <td>4</td>\n",
       "      <td>71</td>\n",
       "      <td>11</td>\n",
       "      <td>Male</td>\n",
       "      <td>No</td>\n",
       "      <td>No</td>\n",
       "      <td>Asian</td>\n",
       "      <td>580</td>\n",
       "    </tr>\n",
       "    <tr>\n",
       "      <th>3</th>\n",
       "      <td>148.924</td>\n",
       "      <td>9504</td>\n",
       "      <td>681</td>\n",
       "      <td>3</td>\n",
       "      <td>36</td>\n",
       "      <td>11</td>\n",
       "      <td>Female</td>\n",
       "      <td>No</td>\n",
       "      <td>No</td>\n",
       "      <td>Asian</td>\n",
       "      <td>964</td>\n",
       "    </tr>\n",
       "    <tr>\n",
       "      <th>4</th>\n",
       "      <td>55.882</td>\n",
       "      <td>4897</td>\n",
       "      <td>357</td>\n",
       "      <td>2</td>\n",
       "      <td>68</td>\n",
       "      <td>16</td>\n",
       "      <td>Male</td>\n",
       "      <td>No</td>\n",
       "      <td>Yes</td>\n",
       "      <td>Caucasian</td>\n",
       "      <td>331</td>\n",
       "    </tr>\n",
       "  </tbody>\n",
       "</table>\n",
       "</div>"
      ],
      "text/plain": [
       "    Income  Limit  Rating  Cards  Age  Education  Gender Student Married  \\\n",
       "0   14.891   3606     283      2   34         11    Male      No     Yes   \n",
       "1  106.025   6645     483      3   82         15  Female     Yes     Yes   \n",
       "2  104.593   7075     514      4   71         11    Male      No      No   \n",
       "3  148.924   9504     681      3   36         11  Female      No      No   \n",
       "4   55.882   4897     357      2   68         16    Male      No     Yes   \n",
       "\n",
       "   Ethnicity  Balance  \n",
       "0  Caucasian      333  \n",
       "1      Asian      903  \n",
       "2      Asian      580  \n",
       "3      Asian      964  \n",
       "4  Caucasian      331  "
      ]
     },
     "execution_count": 4,
     "metadata": {},
     "output_type": "execute_result"
    }
   ],
   "source": [
    "import pandas as pd \n",
    "import statsmodels.formula.api as smf\n",
    "import numpy as np\n",
    "\n",
    "df = pd.read_csv(\"Credit.csv\").drop(\"Unnamed: 0\", axis=1)\n",
    "\n",
    "df.head()"
   ]
  },
  {
   "cell_type": "markdown",
   "metadata": {},
   "source": [
    "Wir beginnen mit dem leeren Modell, addieren eine Variable und berechnen die adjusted-$R^2$-Wert und wählen denjenigen Wert aus, der den grössten adjusted-$R^2$-Wert hat."
   ]
  },
  {
   "cell_type": "code",
   "execution_count": 5,
   "metadata": {},
   "outputs": [
    {
     "name": "stdout",
     "output_type": "stream",
     "text": [
      "Rating    0.7452098462445804\n",
      "Cards     0.004980917848186994\n",
      "Student   0.06474609513806151\n",
      "Ethnicity -0.0048178736277662\n",
      "Income    0.2130048913136423\n",
      "Limit     0.741875250785776\n",
      "Gender    -0.0020502712240353382\n",
      "Education -0.0024474105101712773\n",
      "Age       -0.002509186691383336\n",
      "Married   -0.002480293447217896\n"
     ]
    }
   ],
   "source": [
    "predictors = set(df.columns)\n",
    "predictors.remove(\"Balance\")\n",
    "selected = []\n",
    "for candidate in predictors:\n",
    "    formula = \"{} ~ {}\".format(\"Balance\", ' + '.join(selected+[candidate]))\n",
    "    score = smf.ols(formula, data=df).fit().rsquared_adj\n",
    "    print(\"{:<10}{}\".format(candidate,score))"
   ]
  },
  {
   "cell_type": "markdown",
   "metadata": {},
   "source": [
    "Dies ist hier Rating (die negativen Werte müssen hier nicht interessieren).\n",
    "\n",
    "Wir fügen Rating zum Modell hinzu. Dann addieren wir wieder je eine Variable zum Modell hinzu und berechnen wieder den adjusted-$R^2$-Wert. "
   ]
  },
  {
   "cell_type": "code",
   "execution_count": 6,
   "metadata": {},
   "outputs": [
    {
     "name": "stdout",
     "output_type": "stream",
     "text": [
      "Cards     0.7462194430599269\n",
      "Student   0.812911210164568\n",
      "Ethnicity 0.7445334939427893\n",
      "Income    0.8744888189724805\n",
      "Limit     0.7446629109432299\n",
      "Gender    0.7447595011109145\n",
      "Education 0.7448926944465679\n",
      "Age       0.7523031839384496\n",
      "Married   0.7459766976776195\n"
     ]
    }
   ],
   "source": [
    "predictors.remove(\"Rating\")\n",
    "selected.append(\"Rating\")\n",
    "for candidate in predictors:\n",
    "    formula = \"{} ~ {}\".format(\"Balance\", ' + '.join(selected+[candidate]))\n",
    "    score = smf.ols(formula, data=df).fit().rsquared_adj\n",
    "    print(\"{:<10}{}\".format(candidate,score))"
   ]
  },
  {
   "cell_type": "markdown",
   "metadata": {},
   "source": [
    "Wählen wieder die Variable aus mit dem grössten adjusted-$R^2$-Wert. Das ist hier Income."
   ]
  },
  {
   "cell_type": "code",
   "execution_count": 7,
   "metadata": {},
   "outputs": [
    {
     "name": "stdout",
     "output_type": "stream",
     "text": [
      "Cards     0.8741968933803232\n",
      "Student   0.9494990734177157\n",
      "Ethnicity 0.8746562503488495\n",
      "Limit     0.8753013618810309\n",
      "Gender    0.8741831949149261\n",
      "Education 0.8744205890403014\n",
      "Age       0.8752504838117935\n",
      "Married   0.8753076105349855\n"
     ]
    }
   ],
   "source": [
    "predictors.remove(\"Income\")\n",
    "selected.append(\"Income\")\n",
    "for candidate in predictors:\n",
    "    formula = \"{} ~ {}\".format(\"Balance\", ' + '.join(selected+[candidate]))\n",
    "    score = smf.ols(formula, data=df).fit().rsquared_adj\n",
    "    print(\"{:<10}{}\".format(candidate,score))"
   ]
  },
  {
   "cell_type": "markdown",
   "metadata": {},
   "source": [
    "Usw."
   ]
  },
  {
   "cell_type": "code",
   "execution_count": 8,
   "metadata": {},
   "outputs": [
    {
     "name": "stdout",
     "output_type": "stream",
     "text": [
      "Cards     0.9494982778794964\n",
      "Ethnicity 0.9495107538886861\n",
      "Limit     0.9517033272701592\n",
      "Gender    0.9495169605811011\n",
      "Education 0.9493879846987021\n",
      "Age       0.9499056260936986\n",
      "Married   0.949527912161671\n"
     ]
    }
   ],
   "source": [
    "predictors.remove(\"Student\")\n",
    "selected.append(\"Student\")\n",
    "for candidate in predictors:\n",
    "    formula = \"{} ~ {}\".format(\"Balance\", ' + '.join(selected+[candidate]))\n",
    "    score = smf.ols(formula, data=df).fit().rsquared_adj\n",
    "    print(\"{:<10}{}\".format(candidate,score))"
   ]
  },
  {
   "cell_type": "code",
   "execution_count": 9,
   "metadata": {},
   "outputs": [
    {
     "name": "stdout",
     "output_type": "stream",
     "text": [
      "Cards     0.9535788787498292\n",
      "Ethnicity 0.9516706637673418\n",
      "Gender    0.9517409816291695\n",
      "Education 0.9516503264995197\n",
      "Age       0.9520364506030811\n",
      "Married   0.9516607130805078\n"
     ]
    }
   ],
   "source": [
    "predictors.remove(\"Limit\")\n",
    "selected.append(\"Limit\")\n",
    "for candidate in predictors:\n",
    "    formula = \"{} ~ {}\".format(\"Balance\", ' + '.join(selected+[candidate]))\n",
    "    score = smf.ols(formula, data=df).fit().rsquared_adj\n",
    "    print(\"{:<10}{}\".format(candidate,score))"
   ]
  },
  {
   "cell_type": "code",
   "execution_count": 10,
   "metadata": {},
   "outputs": [
    {
     "name": "stdout",
     "output_type": "stream",
     "text": [
      "Ethnicity 0.9535201161299285\n",
      "Gender    0.9535973858351448\n",
      "Education 0.953529040191287\n",
      "Age       0.9539960984035273\n",
      "Married   0.9534983309007002\n"
     ]
    }
   ],
   "source": [
    "predictors.remove(\"Cards\")\n",
    "selected.append(\"Cards\")\n",
    "for candidate in predictors:\n",
    "    formula = \"{} ~ {}\".format(\"Balance\", ' + '.join(selected+[candidate]))\n",
    "    score = smf.ols(formula, data=df).fit().rsquared_adj\n",
    "    print(\"{:<10}{}\".format(candidate,score))"
   ]
  },
  {
   "cell_type": "code",
   "execution_count": 11,
   "metadata": {},
   "outputs": [
    {
     "name": "stdout",
     "output_type": "stream",
     "text": [
      "Ethnicity 0.9539001369612248\n",
      "Gender    0.9540098163629884\n",
      "Education 0.9539420006322936\n",
      "Married   0.9539445218509882\n"
     ]
    }
   ],
   "source": [
    "predictors.remove(\"Age\")\n",
    "selected.append(\"Age\")\n",
    "for candidate in predictors:\n",
    "    formula = \"{} ~ {}\".format(\"Balance\", ' + '.join(selected+[candidate]))\n",
    "    score = smf.ols(formula, data=df).fit().rsquared_adj\n",
    "    print(\"{:<10}{}\".format(candidate,score))"
   ]
  },
  {
   "cell_type": "markdown",
   "metadata": {},
   "source": [
    "Wenn wir Gender hinzufügen ist der adjusted-$R^2$-Wert 0.95401. Fügen wir noch eine Variable dazu, dann wird der adjusted-$R^2$-Wert _kleiner_. Also brechen wir das Verfahren ab. Die restlichen Variablen werden nicht mehr berücksichtig. "
   ]
  },
  {
   "cell_type": "code",
   "execution_count": 12,
   "metadata": {},
   "outputs": [
    {
     "name": "stdout",
     "output_type": "stream",
     "text": [
      "Ethnicity 0.953919880388569\n",
      "Education 0.9539575227550161\n",
      "Married   0.953954956694095\n"
     ]
    }
   ],
   "source": [
    "predictors.remove(\"Gender\")\n",
    "selected.append(\"Gender\")\n",
    "for candidate in predictors:\n",
    "    formula = \"{} ~ {}\".format(\"Balance\", ' + '.join(selected+[candidate]))\n",
    "    score = smf.ols(formula, data=df).fit().rsquared_adj\n",
    "    print(\"{:<10}{}\".format(candidate,score))"
   ]
  },
  {
   "cell_type": "markdown",
   "metadata": {},
   "source": [
    "Hier noch eine Variante, die das ganze Verfahren automatisiert."
   ]
  },
  {
   "cell_type": "code",
   "execution_count": 12,
   "metadata": {},
   "outputs": [
    {
     "name": "stdout",
     "output_type": "stream",
     "text": [
      "Balance ~ Rating + Income + Student + Limit + Cards + Age + Gender\n"
     ]
    }
   ],
   "source": [
    "import statsmodels.formula.api as smf\n",
    "\n",
    "def forward_selected(data, response):\n",
    "    \"\"\"Linear model designed by forward selection.\n",
    "\n",
    "    Parameters:\n",
    "    -----------\n",
    "    data : pandas DataFrame with all possible predictors and response\n",
    "\n",
    "    response: string, name of response column in data\n",
    "\n",
    "    Returns:\n",
    "    --------\n",
    "    model: an \"optimal\" fitted statsmodels linear model\n",
    "           with an intercept\n",
    "           selected by forward selection\n",
    "           evaluated by adjusted R-squared\n",
    "    \"\"\"\n",
    "    remaining = set(data.columns)\n",
    "    remaining.remove(response)\n",
    "    selected = []\n",
    "    current_score, best_new_score = 0.0, 0.0\n",
    "    while remaining and current_score == best_new_score:\n",
    "        scores_with_candidates = []\n",
    "        for candidate in remaining:\n",
    "            formula = \"{} ~ {}\".format(response,\n",
    "                                           ' + '.join(selected + [candidate]))\n",
    "            score = smf.ols(formula, data).fit().rsquared_adj\n",
    "            scores_with_candidates.append((score, candidate))\n",
    "        scores_with_candidates.sort()\n",
    "        best_new_score, best_candidate = scores_with_candidates.pop()\n",
    "        if current_score < best_new_score:\n",
    "            remaining.remove(best_candidate)\n",
    "            selected.append(best_candidate)\n",
    "            current_score = best_new_score\n",
    "    formula = \"{} ~ {}\".format(response,\n",
    "                                   ' + '.join(selected))\n",
    "    model = smf.ols(formula, data).fit()\n",
    "    return model\n",
    "\n",
    "model = forward_selected(df, \"Balance\")\n",
    "print(model.model.formula)"
   ]
  }
 ],
 "metadata": {
  "kernelspec": {
   "display_name": "Python 3",
   "language": "python",
   "name": "python3"
  },
  "language_info": {
   "codemirror_mode": {
    "name": "ipython",
    "version": 3
   },
   "file_extension": ".py",
   "mimetype": "text/x-python",
   "name": "python",
   "nbconvert_exporter": "python",
   "pygments_lexer": "ipython3",
   "version": "3.7.3"
  }
 },
 "nbformat": 4,
 "nbformat_minor": 4
}
