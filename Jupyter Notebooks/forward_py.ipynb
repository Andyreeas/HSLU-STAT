{
 "cells": [
  {
   "cell_type": "markdown",
   "metadata": {},
   "source": [
    "# Credit - forward"
   ]
  },
  {
   "cell_type": "code",
   "execution_count": 6,
   "metadata": {
    "scrolled": true
   },
   "outputs": [
    {
     "data": {
      "text/html": [
       "<div>\n",
       "<style scoped>\n",
       "    .dataframe tbody tr th:only-of-type {\n",
       "        vertical-align: middle;\n",
       "    }\n",
       "\n",
       "    .dataframe tbody tr th {\n",
       "        vertical-align: top;\n",
       "    }\n",
       "\n",
       "    .dataframe thead th {\n",
       "        text-align: right;\n",
       "    }\n",
       "</style>\n",
       "<table border=\"1\" class=\"dataframe\">\n",
       "  <thead>\n",
       "    <tr style=\"text-align: right;\">\n",
       "      <th></th>\n",
       "      <th>Income</th>\n",
       "      <th>Limit</th>\n",
       "      <th>Rating</th>\n",
       "      <th>Cards</th>\n",
       "      <th>Age</th>\n",
       "      <th>Education</th>\n",
       "      <th>Gender</th>\n",
       "      <th>Student</th>\n",
       "      <th>Married</th>\n",
       "      <th>Ethnicity</th>\n",
       "      <th>Balance</th>\n",
       "    </tr>\n",
       "  </thead>\n",
       "  <tbody>\n",
       "    <tr>\n",
       "      <th>0</th>\n",
       "      <td>14.891</td>\n",
       "      <td>3606</td>\n",
       "      <td>283</td>\n",
       "      <td>2</td>\n",
       "      <td>34</td>\n",
       "      <td>11</td>\n",
       "      <td>Male</td>\n",
       "      <td>No</td>\n",
       "      <td>Yes</td>\n",
       "      <td>Caucasian</td>\n",
       "      <td>333</td>\n",
       "    </tr>\n",
       "    <tr>\n",
       "      <th>1</th>\n",
       "      <td>106.025</td>\n",
       "      <td>6645</td>\n",
       "      <td>483</td>\n",
       "      <td>3</td>\n",
       "      <td>82</td>\n",
       "      <td>15</td>\n",
       "      <td>Female</td>\n",
       "      <td>Yes</td>\n",
       "      <td>Yes</td>\n",
       "      <td>Asian</td>\n",
       "      <td>903</td>\n",
       "    </tr>\n",
       "    <tr>\n",
       "      <th>2</th>\n",
       "      <td>104.593</td>\n",
       "      <td>7075</td>\n",
       "      <td>514</td>\n",
       "      <td>4</td>\n",
       "      <td>71</td>\n",
       "      <td>11</td>\n",
       "      <td>Male</td>\n",
       "      <td>No</td>\n",
       "      <td>No</td>\n",
       "      <td>Asian</td>\n",
       "      <td>580</td>\n",
       "    </tr>\n",
       "    <tr>\n",
       "      <th>3</th>\n",
       "      <td>148.924</td>\n",
       "      <td>9504</td>\n",
       "      <td>681</td>\n",
       "      <td>3</td>\n",
       "      <td>36</td>\n",
       "      <td>11</td>\n",
       "      <td>Female</td>\n",
       "      <td>No</td>\n",
       "      <td>No</td>\n",
       "      <td>Asian</td>\n",
       "      <td>964</td>\n",
       "    </tr>\n",
       "    <tr>\n",
       "      <th>4</th>\n",
       "      <td>55.882</td>\n",
       "      <td>4897</td>\n",
       "      <td>357</td>\n",
       "      <td>2</td>\n",
       "      <td>68</td>\n",
       "      <td>16</td>\n",
       "      <td>Male</td>\n",
       "      <td>No</td>\n",
       "      <td>Yes</td>\n",
       "      <td>Caucasian</td>\n",
       "      <td>331</td>\n",
       "    </tr>\n",
       "  </tbody>\n",
       "</table>\n",
       "</div>"
      ],
      "text/plain": [
       "    Income  Limit  Rating  Cards  Age  Education  Gender Student Married  \\\n",
       "0   14.891   3606     283      2   34         11    Male      No     Yes   \n",
       "1  106.025   6645     483      3   82         15  Female     Yes     Yes   \n",
       "2  104.593   7075     514      4   71         11    Male      No      No   \n",
       "3  148.924   9504     681      3   36         11  Female      No      No   \n",
       "4   55.882   4897     357      2   68         16    Male      No     Yes   \n",
       "\n",
       "   Ethnicity  Balance  \n",
       "0  Caucasian      333  \n",
       "1      Asian      903  \n",
       "2      Asian      580  \n",
       "3      Asian      964  \n",
       "4  Caucasian      331  "
      ]
     },
     "execution_count": 6,
     "metadata": {},
     "output_type": "execute_result"
    }
   ],
   "source": [
    "import pandas as pd \n",
    "import statsmodels.formula.api as smf\n",
    "\n",
    "df = pd.read_csv(\"Credit.csv\").drop(\"Unnamed: 0\", axis=1)\n",
    "\n",
    "df.head()"
   ]
  },
  {
   "cell_type": "markdown",
   "metadata": {},
   "source": [
    "Beginnen mit dem leeren Modell, fügen eine Variable hinzu und bestimmen den RSS-Wert. Das ist die Summe der Residuenquadrate (Abstand zu der Gerade, Ebene usw.). Kleiner RSS-Wert ist besser, da dann die Punkte näher an der Geraden, Ebene usw. liegen, also das Modell die Punkte genauer beschreibt. "
   ]
  },
  {
   "cell_type": "code",
   "execution_count": 7,
   "metadata": {},
   "outputs": [
    {
     "name": "stdout",
     "output_type": "stream",
     "text": [
      "Income    66208744.5107842\n",
      "Rating    21435122.032732937\n",
      "Age       84339627.8817488\n",
      "Cards     83709496.36968993\n",
      "Education 84334430.74220678\n",
      "Student   78681539.63888894\n",
      "Married   84337197.13548377\n",
      "Limit     21715656.65911369\n",
      "Gender    84301019.9963956\n",
      "Ethnicity 84321457.70952794\n"
     ]
    }
   ],
   "source": [
    "# Choose all column names\n",
    "predictors = set(df.columns)\n",
    "\n",
    "# Remove the response variable\n",
    "predictors.remove(\"Balance\")\n",
    "\n",
    "# Empty selected set of variables\n",
    "selected = []\n",
    "\n",
    "# Add one variable from predictors and calculate the RSS-value (which is here called ssr)\n",
    "for candidate in predictors:\n",
    "    formula = \"{} ~ {}\".format(\"Balance\", ' + '.join(selected+[candidate]))\n",
    "    score = smf.ols(formula, data=df).fit().ssr\n",
    "    print(\"{:<10}{}\".format(candidate,score))"
   ]
  },
  {
   "cell_type": "markdown",
   "metadata": {},
   "source": [
    "Der kleinste RSS-Wert hat Rating, also fügen wir diese Variable zu den ausgewählten Variablen dazu. \n",
    "\n",
    "Dann addieren wieder eine der übrig gebliebenen Variablen und fügen sie zum Modell hinzu und berechnen wieder den RSS-Wert."
   ]
  },
  {
   "cell_type": "code",
   "execution_count": 8,
   "metadata": {},
   "outputs": [
    {
     "name": "stdout",
     "output_type": "stream",
     "text": [
      "Income    10532541.29016962\n",
      "Age       20786012.220216528\n",
      "Cards     21296542.449293762\n",
      "Education 21407879.418936443\n",
      "Student   15699959.061316613\n",
      "Married   21316912.951277886\n",
      "Limit     21427162.19690806\n",
      "Gender    21419056.62479064\n",
      "Ethnicity 21384022.44676935\n"
     ]
    }
   ],
   "source": [
    "# Remove the chosen variable from the predictors\n",
    "predictors.remove(\"Rating\")\n",
    "\n",
    "# Add the chosen variable to the selected variables\n",
    "selected.append(\"Rating\")\n",
    "for candidate in predictors:\n",
    "    formula = \"{} ~ {}\".format(\"Balance\", ' + '.join(selected+[candidate]))\n",
    "    score = smf.ols(formula, data=df).fit().ssr\n",
    "    print(\"{:<10}{}\".format(candidate,score))"
   ]
  },
  {
   "cell_type": "markdown",
   "metadata": {},
   "source": [
    "Wir wählen die Variable mit dem kleinsten RSS-Wert, das ist Income und fügen diese wieder zum Modell hinzu. Usw."
   ]
  },
  {
   "cell_type": "code",
   "execution_count": 9,
   "metadata": {},
   "outputs": [
    {
     "name": "stdout",
     "output_type": "stream",
     "text": [
      "Age       10442255.212097414\n",
      "Cards     10530446.818049923\n",
      "Education 10511722.198967572\n",
      "Student   4227219.310606522\n",
      "Married   10437473.375331793\n",
      "Limit     10437996.42376773\n",
      "Gender    10531593.458742898\n",
      "Ethnicity 10465501.046613066\n"
     ]
    }
   ],
   "source": [
    "predictors.remove(\"Income\")\n",
    "selected.append(\"Income\")\n",
    "for candidate in predictors:\n",
    "    formula = \"{} ~ {}\".format(\"Balance\", ' + '.join(selected+[candidate]))\n",
    "    score = smf.ols(formula, data=df).fit().ssr\n",
    "    print(\"{:<10}{}\".format(candidate,score))"
   ]
  },
  {
   "cell_type": "code",
   "execution_count": 10,
   "metadata": {},
   "outputs": [
    {
     "name": "stdout",
     "output_type": "stream",
     "text": [
      "Age       4182599.643021067\n",
      "Cards     4216610.937353123\n",
      "Education 4225819.80019829\n",
      "Married   4214136.640772906\n",
      "Limit     4032501.6636953535\n",
      "Gender    4215051.036410771\n",
      "Ethnicity 4204896.933222124\n"
     ]
    }
   ],
   "source": [
    "predictors.remove(\"Student\")\n",
    "selected.append(\"Student\")\n",
    "for candidate in predictors:\n",
    "    formula = \"{} ~ {}\".format(\"Balance\", ' + '.join(selected+[candidate]))\n",
    "    score = smf.ols(formula, data=df).fit().ssr\n",
    "    print(\"{:<10}{}\".format(candidate,score))"
   ]
  },
  {
   "cell_type": "code",
   "execution_count": 11,
   "metadata": {},
   "outputs": [
    {
     "name": "stdout",
     "output_type": "stream",
     "text": [
      "Age       3994549.281264833\n",
      "Cards     3866091.2058624555\n",
      "Education 4026706.863006659\n",
      "Married   4025841.8371663727\n",
      "Gender    4019156.8299599215\n",
      "Ethnicity 4014797.3445833256\n"
     ]
    }
   ],
   "source": [
    "predictors.remove(\"Limit\")\n",
    "selected.append(\"Limit\")\n",
    "for candidate in predictors:\n",
    "    formula = \"{} ~ {}\".format(\"Balance\", ' + '.join(selected+[candidate]))\n",
    "    score = smf.ols(formula, data=df).fit().ssr\n",
    "    print(\"{:<10}{}\".format(candidate,score))"
   ]
  }
 ],
 "metadata": {
  "kernelspec": {
   "display_name": "Python 3",
   "language": "python",
   "name": "python3"
  },
  "language_info": {
   "codemirror_mode": {
    "name": "ipython",
    "version": 3
   },
   "file_extension": ".py",
   "mimetype": "text/x-python",
   "name": "python",
   "nbconvert_exporter": "python",
   "pygments_lexer": "ipython3",
   "version": "3.8.2"
  }
 },
 "nbformat": 4,
 "nbformat_minor": 4
}
