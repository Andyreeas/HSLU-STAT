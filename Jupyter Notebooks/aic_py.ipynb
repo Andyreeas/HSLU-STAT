{
 "cells": [
  {
   "cell_type": "markdown",
   "metadata": {},
   "source": [
    "# Credit - AIC"
   ]
  },
  {
   "cell_type": "code",
   "execution_count": 13,
   "metadata": {},
   "outputs": [
    {
     "data": {
      "text/html": [
       "<div>\n",
       "<style scoped>\n",
       "    .dataframe tbody tr th:only-of-type {\n",
       "        vertical-align: middle;\n",
       "    }\n",
       "\n",
       "    .dataframe tbody tr th {\n",
       "        vertical-align: top;\n",
       "    }\n",
       "\n",
       "    .dataframe thead th {\n",
       "        text-align: right;\n",
       "    }\n",
       "</style>\n",
       "<table border=\"1\" class=\"dataframe\">\n",
       "  <thead>\n",
       "    <tr style=\"text-align: right;\">\n",
       "      <th></th>\n",
       "      <th>Income</th>\n",
       "      <th>Limit</th>\n",
       "      <th>Rating</th>\n",
       "      <th>Cards</th>\n",
       "      <th>Age</th>\n",
       "      <th>Education</th>\n",
       "      <th>Gender</th>\n",
       "      <th>Student</th>\n",
       "      <th>Married</th>\n",
       "      <th>Ethnicity</th>\n",
       "      <th>Balance</th>\n",
       "    </tr>\n",
       "  </thead>\n",
       "  <tbody>\n",
       "    <tr>\n",
       "      <th>0</th>\n",
       "      <td>14.891</td>\n",
       "      <td>3606</td>\n",
       "      <td>283</td>\n",
       "      <td>2</td>\n",
       "      <td>34</td>\n",
       "      <td>11</td>\n",
       "      <td>Male</td>\n",
       "      <td>No</td>\n",
       "      <td>Yes</td>\n",
       "      <td>Caucasian</td>\n",
       "      <td>333</td>\n",
       "    </tr>\n",
       "    <tr>\n",
       "      <th>1</th>\n",
       "      <td>106.025</td>\n",
       "      <td>6645</td>\n",
       "      <td>483</td>\n",
       "      <td>3</td>\n",
       "      <td>82</td>\n",
       "      <td>15</td>\n",
       "      <td>Female</td>\n",
       "      <td>Yes</td>\n",
       "      <td>Yes</td>\n",
       "      <td>Asian</td>\n",
       "      <td>903</td>\n",
       "    </tr>\n",
       "    <tr>\n",
       "      <th>2</th>\n",
       "      <td>104.593</td>\n",
       "      <td>7075</td>\n",
       "      <td>514</td>\n",
       "      <td>4</td>\n",
       "      <td>71</td>\n",
       "      <td>11</td>\n",
       "      <td>Male</td>\n",
       "      <td>No</td>\n",
       "      <td>No</td>\n",
       "      <td>Asian</td>\n",
       "      <td>580</td>\n",
       "    </tr>\n",
       "    <tr>\n",
       "      <th>3</th>\n",
       "      <td>148.924</td>\n",
       "      <td>9504</td>\n",
       "      <td>681</td>\n",
       "      <td>3</td>\n",
       "      <td>36</td>\n",
       "      <td>11</td>\n",
       "      <td>Female</td>\n",
       "      <td>No</td>\n",
       "      <td>No</td>\n",
       "      <td>Asian</td>\n",
       "      <td>964</td>\n",
       "    </tr>\n",
       "    <tr>\n",
       "      <th>4</th>\n",
       "      <td>55.882</td>\n",
       "      <td>4897</td>\n",
       "      <td>357</td>\n",
       "      <td>2</td>\n",
       "      <td>68</td>\n",
       "      <td>16</td>\n",
       "      <td>Male</td>\n",
       "      <td>No</td>\n",
       "      <td>Yes</td>\n",
       "      <td>Caucasian</td>\n",
       "      <td>331</td>\n",
       "    </tr>\n",
       "  </tbody>\n",
       "</table>\n",
       "</div>"
      ],
      "text/plain": [
       "    Income  Limit  Rating  Cards  Age  Education  Gender Student Married  \\\n",
       "0   14.891   3606     283      2   34         11    Male      No     Yes   \n",
       "1  106.025   6645     483      3   82         15  Female     Yes     Yes   \n",
       "2  104.593   7075     514      4   71         11    Male      No      No   \n",
       "3  148.924   9504     681      3   36         11  Female      No      No   \n",
       "4   55.882   4897     357      2   68         16    Male      No     Yes   \n",
       "\n",
       "   Ethnicity  Balance  \n",
       "0  Caucasian      333  \n",
       "1      Asian      903  \n",
       "2      Asian      580  \n",
       "3      Asian      964  \n",
       "4  Caucasian      331  "
      ]
     },
     "execution_count": 13,
     "metadata": {},
     "output_type": "execute_result"
    }
   ],
   "source": [
    "import pandas as pd \n",
    "import statsmodels.api as sm\n",
    "from statsmodels.formula.api import ols\n",
    "import numpy as np\n",
    "\n",
    "df = pd.read_csv(\"Credit.csv\").drop(\"Unnamed: 0\", axis=1)\n",
    "\n",
    "df.head()"
   ]
  },
  {
   "cell_type": "code",
   "execution_count": 29,
   "metadata": {},
   "outputs": [
    {
     "name": "stdout",
     "output_type": "stream",
     "text": [
      "Ethnicity 6044.623779894291\n",
      "Income    5945.89424951724\n",
      "Age       6042.7099653814885\n",
      "Gender    6042.526816720648\n",
      "Education 6042.68531599753\n",
      "Cards     6039.71020221991\n",
      "Rating    5494.781548180919\n",
      "Student   6014.932655583663\n",
      "Married   6042.698436844525\n",
      "Limit     5499.982633072284\n"
     ]
    }
   ],
   "source": [
    "predictors = set(df.columns)\n",
    "predictors.remove(\"Balance\")\n",
    "selected = []\n",
    "for candidate in predictors:\n",
    "    formula = \"{} ~ {}\".format(\"Balance\", ' + '.join(selected+[candidate]))\n",
    "    score = smf.ols(formula, data=df).fit().aic\n",
    "    print(\"{:<10}{}\".format(candidate,score))"
   ]
  },
  {
   "cell_type": "code",
   "execution_count": 30,
   "metadata": {},
   "outputs": [
    {
     "name": "stdout",
     "output_type": "stream",
     "text": [
      "Ethnicity 5497.826842320393\n",
      "Income    5212.557084956779\n",
      "Age       5484.481339335125\n",
      "Gender    5496.481639808888\n",
      "Education 5496.272851468829\n",
      "Cards     5494.187124192175\n",
      "Student   5372.23247282282\n",
      "Married   5494.56954806922\n",
      "Limit     5496.632982399894\n"
     ]
    }
   ],
   "source": [
    "predictors.remove(\"Rating\")\n",
    "selected.append(\"Rating\")\n",
    "for candidate in predictors:\n",
    "    formula = \"{} ~ {}\".format(\"Balance\", ' + '.join(selected+[candidate]))\n",
    "    score = smf.ols(formula, data=df).fit().aic\n",
    "    print(\"{:<10}{}\".format(candidate,score))"
   ]
  },
  {
   "cell_type": "code",
   "execution_count": 31,
   "metadata": {},
   "outputs": [
    {
     "name": "stdout",
     "output_type": "stream",
     "text": [
      "Ethnicity 5214.002924134769\n",
      "Age       5211.113461150543\n",
      "Gender    5214.521087031826\n",
      "Education 5213.765644647935\n",
      "Cards     5214.477534149805\n",
      "Student   4849.386992312054\n",
      "Married   5210.930246629177\n",
      "Limit     5210.950291148072\n"
     ]
    }
   ],
   "source": [
    "predictors.remove(\"Income\")\n",
    "selected.append(\"Income\")\n",
    "for candidate in predictors:\n",
    "    formula = \"{} ~ {}\".format(\"Balance\", ' + '.join(selected+[candidate]))\n",
    "    score = smf.ols(formula, data=df).fit().aic\n",
    "    print(\"{:<10}{}\".format(candidate,score))"
   ]
  },
  {
   "cell_type": "code",
   "execution_count": 32,
   "metadata": {},
   "outputs": [
    {
     "name": "stdout",
     "output_type": "stream",
     "text": [
      "Ethnicity 4851.269143944139\n",
      "Age       4847.142421862133\n",
      "Gender    4850.233910771463\n",
      "Education 4851.254541920882\n",
      "Cards     4850.381914898289\n",
      "Married   4850.14712702181\n",
      "Limit     4832.524008341789\n"
     ]
    }
   ],
   "source": [
    "predictors.remove(\"Student\")\n",
    "selected.append(\"Student\")\n",
    "for candidate in predictors:\n",
    "    formula = \"{} ~ {}\".format(\"Balance\", ' + '.join(selected+[candidate]))\n",
    "    score = smf.ols(formula, data=df).fit().aic\n",
    "    print(\"{:<10}{}\".format(candidate,score))"
   ]
  },
  {
   "cell_type": "code",
   "execution_count": 33,
   "metadata": {},
   "outputs": [
    {
     "name": "stdout",
     "output_type": "stream",
     "text": [
      "Ethnicity 4834.763979526386\n",
      "Age       4830.741531763785\n",
      "Gender    4833.198085642479\n",
      "Education 4833.948785435656\n",
      "Cards     4817.666819825638\n",
      "Married   4833.862847343175\n"
     ]
    }
   ],
   "source": [
    "predictors.remove(\"Limit\")\n",
    "selected.append(\"Limit\")\n",
    "for candidate in predictors:\n",
    "    formula = \"{} ~ {}\".format(\"Balance\", ' + '.join(selected+[candidate]))\n",
    "    score = smf.ols(formula, data=df).fit().aic\n",
    "    print(\"{:<10}{}\".format(candidate,score))"
   ]
  },
  {
   "cell_type": "code",
   "execution_count": 34,
   "metadata": {},
   "outputs": [
    {
     "name": "stdout",
     "output_type": "stream",
     "text": [
      "Ethnicity 4820.137215634871\n",
      "Age       4815.038962929925\n",
      "Gender    4818.49079780915\n",
      "Education 4819.079517749784\n",
      "Married   4819.343761470236\n"
     ]
    }
   ],
   "source": [
    "predictors.remove(\"Cards\")\n",
    "selected.append(\"Cards\")\n",
    "for candidate in predictors:\n",
    "    formula = \"{} ~ {}\".format(\"Balance\", ' + '.join(selected+[candidate]))\n",
    "    score = smf.ols(formula, data=df).fit().aic\n",
    "    print(\"{:<10}{}\".format(candidate,score))"
   ]
  },
  {
   "cell_type": "code",
   "execution_count": 35,
   "metadata": {},
   "outputs": [
    {
     "name": "stdout",
     "output_type": "stream",
     "text": [
      "Ethnicity 4817.83164970914\n",
      "Gender    4815.900559823972\n",
      "Education 4816.48995325468\n",
      "Married   4816.468056622281\n"
     ]
    }
   ],
   "source": [
    "predictors.remove(\"Age\")\n",
    "selected.append(\"Age\")\n",
    "for candidate in predictors:\n",
    "    formula = \"{} ~ {}\".format(\"Balance\", ' + '.join(selected+[candidate]))\n",
    "    score = smf.ols(formula, data=df).fit().aic\n",
    "    print(\"{:<10}{}\".format(candidate,score))"
   ]
  },
  {
   "cell_type": "code",
   "execution_count": 36,
   "metadata": {},
   "outputs": [
    {
     "name": "stdout",
     "output_type": "stream",
     "text": [
      "Ethnicity 4818.635974596303\n",
      "Education 4817.333413601534\n",
      "Married   4817.355705967809\n"
     ]
    }
   ],
   "source": [
    "predictors.remove(\"Gender\")\n",
    "selected.append(\"Gender\")\n",
    "for candidate in predictors:\n",
    "    formula = \"{} ~ {}\".format(\"Balance\", ' + '.join(selected+[candidate]))\n",
    "    score = smf.ols(formula, data=df).fit().aic\n",
    "    print(\"{:<10}{}\".format(candidate,score))"
   ]
  }
 ],
 "metadata": {
  "kernelspec": {
   "display_name": "Python 3",
   "language": "python",
   "name": "python3"
  },
  "language_info": {
   "codemirror_mode": {
    "name": "ipython",
    "version": 3
   },
   "file_extension": ".py",
   "mimetype": "text/x-python",
   "name": "python",
   "nbconvert_exporter": "python",
   "pygments_lexer": "ipython3",
   "version": "3.8.2"
  }
 },
 "nbformat": 4,
 "nbformat_minor": 4
}
